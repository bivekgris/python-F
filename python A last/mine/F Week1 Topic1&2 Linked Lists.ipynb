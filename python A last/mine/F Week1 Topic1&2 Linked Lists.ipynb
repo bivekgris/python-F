{
 "cells": [
  {
   "cell_type": "code",
   "execution_count": null,
   "metadata": {
    "ExecuteTime": {
     "end_time": "2022-03-28T09:26:13.782010Z",
     "start_time": "2022-03-28T09:26:13.068747Z"
    }
   },
   "outputs": [],
   "source": [
    "import pandas as pd\n",
    "import numpy as np\n",
    "%matplotlib inline\n",
    "import otter\n",
    "grader = otter.Notebook()"
   ]
  },
  {
   "cell_type": "markdown",
   "metadata": {},
   "source": [
    "# F | Week 1: Practice Linked Lists\n",
    "\n",
    "------\n",
    "\n",
    "### Instructions:\n",
    "\n",
    "- Complete 50 points worth of questions to pass the assessment\n",
    "  - You can attempt any number of questions and in any order provided you pass at least 50 points.\n",
    "- Develop and check your answers in the spaces provided.\n",
    "  - Do not remove any variables other provided markings already present in the answer spaces.\n",
    "  - Do not make any changes to this notebook outside of the answer spaces provided.\n",
    "  \n",
    "#### Submitting\n",
    "\n",
    "- Upload your .ipynb file to Gradescope (Make sure to restart the kernel and run all before you submit)\n",
    "- You can submit as many times as needed\n",
    "- When reviewing results, ignore any results listed under \"Public Tests\"\n",
    "\n",
    "For more information, see the assessment page. We have also provided an example question below for clarity. "
   ]
  },
  {
   "cell_type": "markdown",
   "metadata": {},
   "source": [
    "#### Question 1&nbsp;&nbsp;&nbsp;&nbsp;&nbsp;&nbsp;(5 Points)\n",
    "Write a Python program to create a singly linked list named `q1_ll` and append the following items. \n",
    "- 12\n",
    "- 20\n",
    "- 19\n",
    "- 42\n",
    "\n",
    "Iterate through the list using `q1_traverse` method and return the items in the linked list as a list to check if the values are properly inserted.\n",
    "\n",
    "Expected output: [12, 20, 19, 42]"
   ]
  },
  {
   "cell_type": "code",
   "execution_count": 4,
   "metadata": {
    "ExecuteTime": {
     "end_time": "2022-03-28T08:13:13.775211Z",
     "start_time": "2022-03-28T08:13:13.754711Z"
    },
    "tags": []
   },
   "outputs": [
    {
     "data": {
      "text/plain": [
       "[12, 20, 19, 42]"
      ]
     },
     "execution_count": 4,
     "metadata": {},
     "output_type": "execute_result"
    }
   ],
   "source": [
    "# Write your solution here\n",
    "\n",
    "class Node:\n",
    "    def __init__(self,data):\n",
    "        self.data=data\n",
    "        self.next=None\n",
    "        \n",
    "class LinkedList:\n",
    "    def __init__(self):\n",
    "        self.head=None\n",
    "    \n",
    "    def append(self,data):\n",
    "        new_node=Node(data)\n",
    "        if self.head==None:\n",
    "            self.head=new_node\n",
    "        else:\n",
    "            curr=self.head\n",
    "            while curr.next!=None:\n",
    "                curr=curr.next\n",
    "            curr.next=new_node\n",
    "    \n",
    "    def q1_traverse(self):\n",
    "        mylist=[]\n",
    "        cur_node=self.head\n",
    "        while cur_node!=None:\n",
    "            mylist.append(cur_node.data)\n",
    "            cur_node=cur_node.next\n",
    "        return mylist\n",
    "q1_ll=LinkedList()\n",
    "q1_ll.append(12)\n",
    "q1_ll.append(20)\n",
    "q1_ll.append(19)\n",
    "q1_ll.append(42)\n",
    "#second=Node(20)\n",
    "#third=Node(19)\n",
    "#fourth=Node(42)\n",
    "\n",
    "#llist.head.next=second\n",
    "#second.next=third\n",
    "#third.next=fourth\n",
    "q1_ll.q1_traverse()"
   ]
  },
  {
   "cell_type": "markdown",
   "metadata": {},
   "source": [
    "#### Question 2&nbsp;&nbsp;&nbsp;&nbsp;&nbsp;&nbsp;(5 Points)\n",
    "Write a Python program to find the size of the following singly linked list using the method `q2_size`.\n",
    "\n",
    "```\n",
    "q2_ll = [12, 'John', 19, True, 'Purple', False]\n",
    "```"
   ]
  },
  {
   "cell_type": "code",
   "execution_count": 6,
   "metadata": {
    "ExecuteTime": {
     "end_time": "2022-03-28T23:24:01.886602Z",
     "start_time": "2022-03-28T23:24:01.865661Z"
    },
    "tags": []
   },
   "outputs": [
    {
     "data": {
      "text/plain": [
       "6"
      ]
     },
     "execution_count": 6,
     "metadata": {},
     "output_type": "execute_result"
    }
   ],
   "source": [
    "# Write your solution here\n",
    "\n",
    "\n",
    "class Node:\n",
    "    def __init__(self,data):\n",
    "        self.data = data\n",
    "        self.next = None\n",
    "\n",
    "class LinkedList:\n",
    "    def __init__(self):\n",
    "        self.head = None\n",
    "\n",
    "    def append(self,data):\n",
    "        new_node = Node(data)\n",
    "        if self.head == None:\n",
    "            self.head = new_node\n",
    "        else:\n",
    "            curr = self.head\n",
    "            while curr.next != None:\n",
    "                curr = curr.next\n",
    "            curr.next = new_node\n",
    "    \n",
    "    def q2_size(self):\n",
    "        mylist = []\n",
    "        curr_node = self.head\n",
    "        while curr_node != None:\n",
    "            mylist.append(curr_node.data)\n",
    "            curr_node = curr_node.next\n",
    "        c = len(mylist)\n",
    "        return c\n",
    "\n",
    "q2_ll = LinkedList()\n",
    "q2_ll.append(12)\n",
    "q2_ll.append('John')\n",
    "q2_ll.append(19)\n",
    "q2_ll.append(True)\n",
    "q2_ll.append('Purple')\n",
    "q2_ll.append(False)\n",
    "q2_ll.q2_size()"
   ]
  },
  {
   "cell_type": "markdown",
   "metadata": {},
   "source": [
    "#### Question 3&nbsp;&nbsp;&nbsp;&nbsp;&nbsp;&nbsp;(5 Points)\n",
    "Write a Python program to search 12 in the singly linked list using `q3_search(num)` method. This method shoul return `True` if the item is found, otherwise return `False`.\n",
    "```\n",
    "q3_ll = [1, 12, 6, 20, 'John', 19, True, 'Purple', False]\n",
    "```"
   ]
  },
  {
   "cell_type": "code",
   "execution_count": 7,
   "metadata": {
    "ExecuteTime": {
     "end_time": "2022-03-28T23:25:21.296007Z",
     "start_time": "2022-03-28T23:25:21.281020Z"
    },
    "tags": []
   },
   "outputs": [
    {
     "data": {
      "text/plain": [
       "False"
      ]
     },
     "execution_count": 7,
     "metadata": {},
     "output_type": "execute_result"
    }
   ],
   "source": [
    "# Write your solution here\n",
    "\n",
    "class Node:\n",
    "    def __init__(self,data):\n",
    "        self.data = data\n",
    "        self.next = None\n",
    "\n",
    "class LinkedList:\n",
    "    def __init__(self):\n",
    "        self.head = None\n",
    "\n",
    "    def append(self,data):\n",
    "        new_node = Node(data)\n",
    "        if self.head == None:\n",
    "            self.head = neungettextw_node\n",
    "        else:\n",
    "            curr = self.head\n",
    "            while curr.next != None:\n",
    "                curr = curr.next\n",
    "            curr.next = new_node\n",
    "    \n",
    "    def q3_search(self,item):\n",
    "        mylist = []\n",
    "        curr_node = self.head\n",
    "        while curr_node != None:\n",
    "            mylist.append(curr_node.data)\n",
    "            curr_node = curr_node.next\n",
    "        if item in mylist:\n",
    "            return True\n",
    "        else:\n",
    "            return False\n",
    "\n",
    "q3_ll = LinkedList()\n",
    "q3_ll.append(1)\n",
    "q3_ll.append(12)\n",
    "q3_ll.append(6)\n",
    "q3_ll.append(20)\n",
    "q3_ll.append('John')\n",
    "q3_ll.append(19)\n",
    "q3_ll.append(True)\n",
    "q3_ll.append('Purple')\n",
    "q3_ll.append(False)\n",
    "q3_ll.q3_search(10)\n"
   ]
  },
  {
   "cell_type": "markdown",
   "metadata": {},
   "source": [
    "#### Question 4&nbsp;&nbsp;&nbsp;&nbsp;&nbsp;&nbsp;(5 Points)\n",
    "Write a Python program to access the element in second index of the following singly linked list. Use the method `q4_search(index_num)` that returns the element in the given index.\n",
    "```\n",
    "q4_ll = [12, 'John', 19, True, 'Purple', False]\n",
    "```"
   ]
  },
  {
   "cell_type": "code",
   "execution_count": 8,
   "metadata": {
    "ExecuteTime": {
     "end_time": "2022-03-28T23:29:22.345970Z",
     "start_time": "2022-03-28T23:29:22.329287Z"
    },
    "tags": []
   },
   "outputs": [
    {
     "data": {
      "text/plain": [
       "19"
      ]
     },
     "execution_count": 8,
     "metadata": {},
     "output_type": "execute_result"
    }
   ],
   "source": [
    "# Write your solution here\n",
    "\n",
    "class Node:\n",
    "    def __init__(self, data):\n",
    "        self.data = data\n",
    "        self.next = None\n",
    "        \n",
    "class LinkedList:\n",
    "    def __init__(self):\n",
    "        self.head = None\n",
    "        \n",
    "    def traverse(self):\n",
    "        lst1 = []\n",
    "        count = 0\n",
    "        cur_node = self.head\n",
    "        while cur_node != None:\n",
    "            lst1.append(cur_node.data)\n",
    "            cur_node = cur_node.next\n",
    "            count += 1\n",
    "        return lst1     \n",
    "    \n",
    "    def q4_search(self, index_num):\n",
    "        count = 0\n",
    "        cur_node = self.head\n",
    "        while cur_node != None and count < index_num:\n",
    "            cur_node = cur_node.next\n",
    "            count += 1\n",
    "        return cur_node.data\n",
    "        \n",
    "    def append(self,data):\n",
    "        new_node = Node(data) #creating the new node\n",
    "\n",
    "        if self.head == None: #linked list is empty\n",
    "            self.head = new_node #give the head reference to the new node\n",
    "        else:\n",
    "            #traversing the linked list to find the last node\n",
    "            curr = self.head\n",
    "            while curr.next != None:\n",
    "                curr = curr.next\n",
    "            curr.next = new_node\n",
    "            \n",
    "    \n",
    "            \n",
    "q4_ll = LinkedList()\n",
    "x = [12, 'John', 19, True, 'Purple', False]\n",
    "\n",
    "for i in x:\n",
    "    q4_ll.append(i)\n",
    "    \n",
    "q4_ll.q4_search(2)"
   ]
  },
  {
   "cell_type": "markdown",
   "metadata": {},
   "source": [
    "#### Question 5&nbsp;&nbsp;&nbsp;&nbsp;&nbsp;&nbsp;(10 Points)\n",
    "Write a Python program to set a new value of an element of the following singly linked list using its index value. Use the method `q5_set_element(index_num, val)` to set the value of second index to 91. \n",
    "```\n",
    "q5_ll = [12, 'John', 19, True, 'Purple', False]\n",
    "```\n",
    "Use `q5_traverse()` to return the updated linked list as a list."
   ]
  },
  {
   "cell_type": "code",
   "execution_count": null,
   "metadata": {
    "ExecuteTime": {
     "end_time": "2022-03-28T23:39:29.623205Z",
     "start_time": "2022-03-28T23:39:29.616253Z"
    },
    "tags": []
   },
   "outputs": [],
   "source": [
    "# Write your solution here\n",
    "\n",
    "class Node:\n",
    "    def __init__(self,data):\n",
    "        self.data = data\n",
    "        self.next = None\n",
    "\n",
    "class LinkedList:\n",
    "    def __init__(self):\n",
    "        self.head = None\n",
    "\n",
    "    def append(self,data):\n",
    "        new_node = Node(data)\n",
    "        if self.head == None:\n",
    "            self.head = new_node\n",
    "        else:\n",
    "            curr = self.head\n",
    "            while curr.next != None:\n",
    "                curr = curr.next\n",
    "            curr.next = new_node\n",
    "    \n",
    "    def q5_set_element(self,index_num,val):\n",
    "        if self.head == None:\n",
    "            print(\"Empty Linked List\")\n",
    "        else:\n",
    "            cur_node = self.head\n",
    "            prev = None\n",
    "            count = 0\n",
    "            while cur_node != None and count < index_num:\n",
    "                prev = cur_node\n",
    "                cur_node = cur_node.next\n",
    "                count += 1\n",
    "            if cur_node == self.head:\n",
    "                self.head = cur_node.next\n",
    "                del cur_node\n",
    "            else:\n",
    "                prev.next = cur_node.next\n",
    "                del cur_node\n",
    "        new_node = Node(val)\n",
    "        cur_node = self.head\n",
    "        prev = None\n",
    "        c = 0\n",
    "        while cur_node != None and c < index_num:\n",
    "            prev = cur_node\n",
    "            cur_node = cur_node.next\n",
    "            c += 1\n",
    "        if cur_node != self.head:\n",
    "            prev.next = new_node\n",
    "            new_node.next = cur_node\n",
    "        else:\n",
    "            new_node.next = cur_node\n",
    "            self.head = new_node\n",
    "    def q5_traverse(self):\n",
    "        lst = []\n",
    "        curr_node = self.head\n",
    "        while curr_node != None:\n",
    "            lst.append(curr_node.data)\n",
    "            curr_node = curr_node.next\n",
    "        return lst\n",
    "q5_ll = LinkedList()\n",
    "q5_ll.append(12)\n",
    "q5_ll.append('John')\n",
    "q5_ll.append(19)\n",
    "q5_ll.append(True)\n",
    "q5_ll.append('Purple')\n",
    "q5_ll.append(False)\n",
    "q5_ll.q5_set_element(2,91)\n",
    "q5_ll.q5_traverse()"
   ]
  },
  {
   "cell_type": "markdown",
   "metadata": {},
   "source": [
    "#### Question 6&nbsp;&nbsp;&nbsp;&nbsp;&nbsp;&nbsp;(10 Points)\n",
    "Write a Python program to delete the first element from the following singly linked list using the method `q6_delete()`.\n",
    "```\n",
    "q6_ll = [12, 'John', 19, True, 'Purple', False]\n",
    "```\n",
    "Use `q6_traverse()` to return the updated linked list as a list."
   ]
  },
  {
   "cell_type": "code",
   "execution_count": 9,
   "metadata": {
    "ExecuteTime": {
     "end_time": "2022-03-28T23:48:06.994956Z",
     "start_time": "2022-03-28T23:48:06.983971Z"
    },
    "tags": []
   },
   "outputs": [
    {
     "data": {
      "text/plain": [
       "['John', 19, True, 'Purple', False]"
      ]
     },
     "execution_count": 9,
     "metadata": {},
     "output_type": "execute_result"
    }
   ],
   "source": [
    "# Write your solution here\n",
    "class Node:\n",
    "    def __init__(self,data):\n",
    "        self.data = data\n",
    "        self.next = None\n",
    "\n",
    "class LinkedList:\n",
    "    def __init__(self):\n",
    "        self.head = None\n",
    "\n",
    "    def append(self,data):\n",
    "        new_node = Node(data)\n",
    "        if self.head == None:\n",
    "            self.head = new_node\n",
    "        else:\n",
    "            curr = self.head\n",
    "            while curr.next != None:\n",
    "                curr = curr.next\n",
    "            curr.next = new_node\n",
    "    def q6_delete(self):\n",
    "        if self.head == None:\n",
    "            print(\"Empty Linked list\")\n",
    "        else:\n",
    "            curr_node = self.head\n",
    "            self.head = self.head.next\n",
    "            del curr_node\n",
    "    def q6_traverse(self):\n",
    "        l1 = []\n",
    "        curr_node = self.head\n",
    "        while curr_node != None:\n",
    "            l1.append(curr_node.data)\n",
    "            curr_node = curr_node.next\n",
    "        return l1\n",
    "\n",
    "q6_ll = LinkedList()\n",
    "q6_ll.append(12)\n",
    "q6_ll.append('John')\n",
    "q6_ll.append(19)\n",
    "q6_ll.append(True)\n",
    "q6_ll.append('Purple')\n",
    "q6_ll.append(False)\n",
    "q6_ll.q6_delete()\n",
    "q6_ll.q6_traverse()\n"
   ]
  },
  {
   "cell_type": "markdown",
   "metadata": {},
   "source": [
    "#### Question 7&nbsp;&nbsp;&nbsp;&nbsp;&nbsp;&nbsp;(10 Points) \n",
    "Write a Python program to delete the last item from the following singly linked list using the method `q7_delete()`.\n",
    "```\n",
    "q7_ll = [12, 'John', 19, True, 'Purple', False]\n",
    "```\n",
    "Use `q7_traverse()` to return the updated linked list as a list."
   ]
  },
  {
   "cell_type": "code",
   "execution_count": 10,
   "metadata": {
    "ExecuteTime": {
     "end_time": "2022-03-29T00:40:03.117011Z",
     "start_time": "2022-03-29T00:40:03.102599Z"
    },
    "tags": []
   },
   "outputs": [
    {
     "data": {
      "text/plain": [
       "[12, 'John', 19, True, 'Purple']"
      ]
     },
     "execution_count": 10,
     "metadata": {},
     "output_type": "execute_result"
    }
   ],
   "source": [
    "# Write your solution here\n",
    "\n",
    "class Node:\n",
    "    def __init__(self,data):\n",
    "        self.data = data\n",
    "        self.next = None\n",
    "\n",
    "class LinkedList:\n",
    "    def __init__(self):\n",
    "        self.head = None\n",
    "\n",
    "    def append(self,data):\n",
    "        new_node = Node(data)\n",
    "        if self.head == None:\n",
    "            self.head = new_node\n",
    "        else:\n",
    "            curr = self.head\n",
    "            while curr.next != None:\n",
    "                curr = curr.next\n",
    "            curr.next = new_node\n",
    "    def q7_delete(self):\n",
    "        if self.head == None:\n",
    "            print(\"Empty Linked list\")\n",
    "        else:\n",
    "            curr_node = self.head\n",
    "            prev = None\n",
    "            while curr_node.next != None:\n",
    "                prev = curr_node\n",
    "                curr_node = curr_node.next\n",
    "            prev.next = None\n",
    "            del curr_node\n",
    "    def q7_traverse(self):\n",
    "        l1 = []\n",
    "        curr_node = self.head\n",
    "        while curr_node != None:\n",
    "            l1.append(curr_node.data)\n",
    "            curr_node = curr_node.next\n",
    "        return l1\n",
    "\n",
    "q7_ll = LinkedList()\n",
    "q7_ll.append(12)\n",
    "q7_ll.append('John')\n",
    "q7_ll.append(19)\n",
    "q7_ll.append(True)\n",
    "q7_ll.append('Purple')\n",
    "q7_ll.append(False)\n",
    "q7_ll.q7_delete()\n",
    "q7_ll.q7_traverse()\n"
   ]
  },
  {
   "cell_type": "markdown",
   "metadata": {},
   "source": [
    "#### Question 8&nbsp;&nbsp;&nbsp;&nbsp;&nbsp;&nbsp;(5 Points) \n",
    "Write a Python program to create the doubly linked list `q8_llist` and append the following items.\n",
    "- 12\n",
    "- 'John'\n",
    "- 19\n",
    "- True\n",
    "- 'Purple'\n",
    "- False\n",
    "\n",
    "Iterate through the doubly linked list (forward) using the `q8_traverse` method, which returns the items in a list."
   ]
  },
  {
   "cell_type": "code",
   "execution_count": 12,
   "metadata": {
    "ExecuteTime": {
     "end_time": "2022-03-29T00:51:11.957562Z",
     "start_time": "2022-03-29T00:51:11.942572Z"
    },
    "tags": []
   },
   "outputs": [
    {
     "data": {
      "text/plain": [
       "[12, 'John', 19, True, 'Purple', False]"
      ]
     },
     "execution_count": 12,
     "metadata": {},
     "output_type": "execute_result"
    }
   ],
   "source": [
    "# Write your solution here\n",
    "\n",
    "# Write your solution here\n",
    "class Node:\n",
    "    def __init__(self,data):\n",
    "        self.data = data\n",
    "        self.previous = None\n",
    "        self.next = None\n",
    "\n",
    "class DoublyLinkedList:\n",
    "    def __init__(self):\n",
    "        self.head = None\n",
    "        self.tail = None\n",
    "    def append(self,data):\n",
    "        new_node = Node(data)\n",
    "\n",
    "        if self.head == None:\n",
    "            self.head = self.tail = new_node\n",
    "            self.head.previous = None\n",
    "            self.head.next = None\n",
    "        else:\n",
    "            self.tail.next = new_node\n",
    "            new_node.previous = self.tail\n",
    "            self.tail = new_node\n",
    "            self.tail.next = None\n",
    "\n",
    "    def q8_traverse(self):\n",
    "        current = self.head\n",
    "        if self.head == None:\n",
    "            print('List is empty')\n",
    "            return\n",
    "        l1 = []\n",
    "        while current != None:\n",
    "            l1.append(current.data)\n",
    "            current = current.next\n",
    "        return l1\n",
    "\n",
    "q8_ll = DoublyLinkedList()\n",
    "q8_ll.append(12)\n",
    "q8_ll.append('John')\n",
    "q8_ll.append(19)\n",
    "q8_ll.append(True)\n",
    "q8_ll.append('Purple')\n",
    "q8_ll.append(False)\n",
    "q8_ll.q8_traverse()"
   ]
  },
  {
   "cell_type": "markdown",
   "metadata": {},
   "source": [
    "#### Question 9&nbsp;&nbsp;&nbsp;&nbsp;&nbsp;&nbsp;(5 Points)\n",
    "Write a Python program to create the following doubly linked list. \n",
    "```\n",
    "q9_ll = [12, 'John', 19, True, 'Purple', False]\n",
    "```\n",
    "Use `q9_traverse()` method to return the nodes from the last position to first node (i.e., backwards) as a list."
   ]
  },
  {
   "cell_type": "code",
   "execution_count": 13,
   "metadata": {
    "ExecuteTime": {
     "end_time": "2022-03-29T00:54:49.136543Z",
     "start_time": "2022-03-29T00:54:49.117557Z"
    },
    "tags": []
   },
   "outputs": [
    {
     "data": {
      "text/plain": [
       "[False, 'Purple', True, 19, 'John', 12]"
      ]
     },
     "execution_count": 13,
     "metadata": {},
     "output_type": "execute_result"
    }
   ],
   "source": [
    "# Write your solution here\n",
    "\n",
    "\n",
    "class Node:\n",
    "    def __init__(self,data):\n",
    "        self.data = data\n",
    "        self.previous = None\n",
    "        self.next = None\n",
    "\n",
    "class DoublyLinkedList:\n",
    "    def __init__(self):\n",
    "        self.head = None\n",
    "        self.tail = None\n",
    "    def append(self,data):\n",
    "        new_node = Node(data)\n",
    "\n",
    "        if self.head == None:\n",
    "            self.head = self.tail = new_node\n",
    "            self.head.previous = None\n",
    "            self.head.next = None\n",
    "        else:\n",
    "            self.tail.next = new_node\n",
    "            new_node.previous = self.tail\n",
    "            self.tail = new_node\n",
    "            self.tail.next = None\n",
    "\n",
    "    def q9_traverse(self):\n",
    "        current = self.tail\n",
    "        if self.head == None:\n",
    "            print('List is empty')\n",
    "            return\n",
    "        l1 = []\n",
    "        while current != None:\n",
    "            l1.append(current.data)\n",
    "            current = current.previous\n",
    "        return l1\n",
    "\n",
    "q9_ll = DoublyLinkedList()\n",
    "q9_ll.append(12)\n",
    "q9_ll.append('John')\n",
    "q9_ll.append(19)\n",
    "q9_ll.append(True)\n",
    "q9_ll.append('Purple')\n",
    "q9_ll.append(False)\n",
    "q9_ll.q9_traverse()"
   ]
  },
  {
   "cell_type": "markdown",
   "metadata": {},
   "source": [
    "#### Question 10&nbsp;&nbsp;&nbsp;&nbsp;&nbsp;&nbsp;(5 Points)\n",
    "Write a Python program to count the number of items in the following doubly linked list using the method `q10_count()`\n",
    "```\n",
    "q10_ll = [12, 'John', 19, True, 'Purple', False]\n",
    "```"
   ]
  },
  {
   "cell_type": "code",
   "execution_count": 16,
   "metadata": {
    "ExecuteTime": {
     "end_time": "2022-03-29T01:18:35.258063Z",
     "start_time": "2022-03-29T01:18:35.236899Z"
    },
    "tags": []
   },
   "outputs": [
    {
     "data": {
      "text/plain": [
       "6"
      ]
     },
     "execution_count": 16,
     "metadata": {},
     "output_type": "execute_result"
    }
   ],
   "source": [
    "# Write your solution here\n",
    "\n",
    "class Node:    \n",
    "    def __init__(self, data):    \n",
    "        self.data = data    \n",
    "        self.previous = None  \n",
    "        self.next = None \n",
    "            \n",
    "class DoublyLinkedList:      \n",
    "    def __init__(self):    \n",
    "        self.head = None   \n",
    "        self.tail = None    \n",
    "             \n",
    "    def append(self, data):    \n",
    "        new_node = Node(data)   \n",
    "            \n",
    "        if self.head == None:    \n",
    "            self.head = self.tail = new_node    \n",
    "            self.head.previous = None  \n",
    "            self.tail.next = None    \n",
    "        else:    \n",
    "            self.tail.next = new_node    \n",
    "            new_node.previous = self.tail  \n",
    "            self.tail = new_node    \n",
    "            self.tail.next = None    \n",
    "                   \n",
    "    def q10_count(self):\n",
    "        lst = []\n",
    "        count = 0\n",
    "        current = self.head   \n",
    "        if self.head == None:    \n",
    "            return    \n",
    "        while current != None:     \n",
    "            count += 1\n",
    "            current = current.next \n",
    "\n",
    "        return count\n",
    "   \n",
    "     \n",
    "                \n",
    "q10_ll = DoublyLinkedList()\n",
    "x = [12, 'John', 19, True, 'Purple', False]\n",
    "for i in x:\n",
    "    q10_ll.append(i)  \n",
    "\n",
    "q10_ll.q10_count()"
   ]
  },
  {
   "cell_type": "markdown",
   "metadata": {},
   "source": [
    "#### Question 11&nbsp;&nbsp;&nbsp;&nbsp;&nbsp;&nbsp;(5 Points)\n",
    "Write a Python program to display the following doubly linked list in reverse order using `q11_reverse()` method.\n",
    "```\n",
    "q11_ll = [12, 'John', 19, True, 'Purple', False]\n",
    "```\n",
    "Use `q11_traverse()` method, which return the linked list elements as a list to verify whether the reversing has been performed correctly."
   ]
  },
  {
   "cell_type": "code",
   "execution_count": 17,
   "metadata": {
    "ExecuteTime": {
     "end_time": "2022-03-29T01:30:13.295220Z",
     "start_time": "2022-03-29T01:30:13.267280Z"
    },
    "tags": []
   },
   "outputs": [
    {
     "data": {
      "text/plain": [
       "[False, 'Purple', True, 19, 'John', 12]"
      ]
     },
     "execution_count": 17,
     "metadata": {},
     "output_type": "execute_result"
    }
   ],
   "source": [
    "# Write your solution here\n",
    "class Node:    \n",
    "    def __init__(self, data):    \n",
    "        self.data = data    \n",
    "        self.previous = None  \n",
    "        self.next = None \n",
    "            \n",
    "class DoublyLinkedList:\n",
    "\n",
    "    def __init__(self):    \n",
    "        self.head = None   \n",
    "        self.tail = None    \n",
    "             \n",
    "    def append(self, data):    \n",
    "        new_node = Node(data)   \n",
    "            \n",
    "        if self.head == None:    \n",
    "            self.head = self.tail = new_node    \n",
    "            self.head.previous = None  \n",
    "            self.tail.next = None    \n",
    "        else:    \n",
    "            self.tail.next = new_node    \n",
    "            new_node.previous = self.tail  \n",
    "            self.tail = new_node    \n",
    "            self.tail.next = None    \n",
    "                   \n",
    "    def q11_traverse(self):\n",
    "        lst = []\n",
    "        current = self.head   \n",
    "        if self.head == None:     \n",
    "            return    \n",
    "        while current != None:     \n",
    "            lst.append(current.data)  \n",
    "            current = current.next \n",
    "        lst.reverse()\n",
    "        return lst\n",
    "   \n",
    "     \n",
    "                \n",
    "q11_ll = DoublyLinkedList()\n",
    "x = [12, 'John', 19, True, 'Purple', False]\n",
    "for i in x:\n",
    "    q11_ll.append(i)  \n",
    "\n",
    "q11_ll.q11_traverse()\n"
   ]
  },
  {
   "cell_type": "markdown",
   "metadata": {},
   "source": [
    "#### Question 12&nbsp;&nbsp;&nbsp;&nbsp;&nbsp;&nbsp;(10 Points)\n",
    "Write a Python program to insert 'Kelly' in front of the following doubly linked list using `q12_insert(item)` method.\n",
    "```\n",
    "q12_ll = [12, 'John', 19, True, 'Purple', False]\n",
    "```\n",
    "Use `q12_traverse()` method, which return the items in the inked lists as a list to check whether your progam is correct."
   ]
  },
  {
   "cell_type": "code",
   "execution_count": null,
   "metadata": {
    "ExecuteTime": {
     "end_time": "2022-03-29T01:33:51.919445Z",
     "start_time": "2022-03-29T01:33:51.899471Z"
    },
    "tags": []
   },
   "outputs": [],
   "source": [
    "# Write your solution here\n",
    "\n"
   ]
  },
  {
   "cell_type": "markdown",
   "metadata": {},
   "source": [
    "#### Question 13&nbsp;&nbsp;&nbsp;&nbsp;&nbsp;&nbsp;(10 Points)\n",
    "Write a Python program to search whether 'John' is in the following doubly linked list using the method `q13_search(item)`. If the item is in the linked list, it should return `True`, otherwise return `False`. \n",
    "```\n",
    "q13_ll = [12, 'John', 19, True, 'Purple', False]\n",
    "```"
   ]
  },
  {
   "cell_type": "code",
   "execution_count": null,
   "metadata": {
    "ExecuteTime": {
     "end_time": "2022-03-29T01:52:08.766606Z",
     "start_time": "2022-03-29T01:52:08.747659Z"
    },
    "tags": []
   },
   "outputs": [],
   "source": [
    "# Write your solution here\n",
    "\n"
   ]
  },
  {
   "cell_type": "markdown",
   "metadata": {},
   "source": [
    "#### Question 14&nbsp;&nbsp;&nbsp;&nbsp;&nbsp;&nbsp;(10 Points)\n",
    "Write a Python program to delete `19` from the following doubly linked list using `q14_delete(item)` method.\n",
    "```\n",
    "q14_ll = [12, 'John', 19, True, 'Purple', False]\n",
    "```\n",
    "Use the method `q14_traverse()` which returns the elements in the linked list as a list to check whether you have performed the opeartaions correctly."
   ]
  },
  {
   "cell_type": "code",
   "execution_count": null,
   "metadata": {
    "ExecuteTime": {
     "end_time": "2022-03-29T02:00:50.776702Z",
     "start_time": "2022-03-29T02:00:50.762709Z"
    },
    "tags": []
   },
   "outputs": [],
   "source": [
    "# Write your solution here\n",
    "\n"
   ]
  }
 ],
 "metadata": {
  "celltoolbar": "Edit Metadata",
  "kernelspec": {
   "display_name": "Python 3 (ipykernel)",
   "language": "python",
   "name": "python3"
  },
  "language_info": {
   "codemirror_mode": {
    "name": "ipython",
    "version": 3
   },
   "file_extension": ".py",
   "mimetype": "text/x-python",
   "name": "python",
   "nbconvert_exporter": "python",
   "pygments_lexer": "ipython3",
   "version": "3.9.12"
  },
  "otter": {
   "tests": {
    "Question 01": {
     "name": "Question 01",
     "points": 5,
     "suites": [
      {
       "cases": [],
       "scored": true,
       "setup": "",
       "teardown": "",
       "type": "doctest"
      }
     ]
    },
    "Question 02": {
     "name": "Question 02",
     "points": 5,
     "suites": [
      {
       "cases": [],
       "scored": true,
       "setup": "",
       "teardown": "",
       "type": "doctest"
      }
     ]
    },
    "Question 03": {
     "name": "Question 03",
     "points": 5,
     "suites": [
      {
       "cases": [],
       "scored": true,
       "setup": "",
       "teardown": "",
       "type": "doctest"
      }
     ]
    },
    "Question 04": {
     "name": "Question 04",
     "points": 5,
     "suites": [
      {
       "cases": [],
       "scored": true,
       "setup": "",
       "teardown": "",
       "type": "doctest"
      }
     ]
    },
    "Question 05": {
     "name": "Question 05",
     "points": 10,
     "suites": [
      {
       "cases": [],
       "scored": true,
       "setup": "",
       "teardown": "",
       "type": "doctest"
      }
     ]
    },
    "Question 06": {
     "name": "Question 06",
     "points": 10,
     "suites": [
      {
       "cases": [],
       "scored": true,
       "setup": "",
       "teardown": "",
       "type": "doctest"
      }
     ]
    },
    "Question 07": {
     "name": "Question 07",
     "points": 10,
     "suites": [
      {
       "cases": [],
       "scored": true,
       "setup": "",
       "teardown": "",
       "type": "doctest"
      }
     ]
    },
    "Question 08": {
     "name": "Question 08",
     "points": 5,
     "suites": [
      {
       "cases": [],
       "scored": true,
       "setup": "",
       "teardown": "",
       "type": "doctest"
      }
     ]
    },
    "Question 09": {
     "name": "Question 09",
     "points": 5,
     "suites": [
      {
       "cases": [],
       "scored": true,
       "setup": "",
       "teardown": "",
       "type": "doctest"
      }
     ]
    },
    "Question 10": {
     "name": "Question 10",
     "points": 5,
     "suites": [
      {
       "cases": [],
       "scored": true,
       "setup": "",
       "teardown": "",
       "type": "doctest"
      }
     ]
    },
    "Question 11": {
     "name": "Question 11",
     "points": 5,
     "suites": [
      {
       "cases": [],
       "scored": true,
       "setup": "",
       "teardown": "",
       "type": "doctest"
      }
     ]
    },
    "Question 12": {
     "name": "Question 12",
     "points": 10,
     "suites": [
      {
       "cases": [],
       "scored": true,
       "setup": "",
       "teardown": "",
       "type": "doctest"
      }
     ]
    },
    "Question 13": {
     "name": "Question 13",
     "points": 10,
     "suites": [
      {
       "cases": [],
       "scored": true,
       "setup": "",
       "teardown": "",
       "type": "doctest"
      }
     ]
    },
    "Question 14": {
     "name": "Question 14",
     "points": 10,
     "suites": [
      {
       "cases": [],
       "scored": true,
       "setup": "",
       "teardown": "",
       "type": "doctest"
      }
     ]
    }
   }
  },
  "varInspector": {
   "cols": {
    "lenName": 16,
    "lenType": 16,
    "lenVar": 40
   },
   "kernels_config": {
    "python": {
     "delete_cmd_postfix": "",
     "delete_cmd_prefix": "del ",
     "library": "var_list.py",
     "varRefreshCmd": "print(var_dic_list())"
    },
    "r": {
     "delete_cmd_postfix": ") ",
     "delete_cmd_prefix": "rm(",
     "library": "var_list.r",
     "varRefreshCmd": "cat(var_dic_list()) "
    }
   },
   "types_to_exclude": [
    "module",
    "function",
    "builtin_function_or_method",
    "instance",
    "_Feature"
   ],
   "window_display": false
  }
 },
 "nbformat": 4,
 "nbformat_minor": 4
}
