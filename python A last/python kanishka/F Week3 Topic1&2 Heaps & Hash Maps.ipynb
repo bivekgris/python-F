{
 "cells": [
  {
   "cell_type": "code",
   "execution_count": null,
   "metadata": {
    "ExecuteTime": {
     "end_time": "2022-03-28T09:26:13.782010Z",
     "start_time": "2022-03-28T09:26:13.068747Z"
    }
   },
   "outputs": [],
   "source": [
    "import pandas as pd\n",
    "import numpy as np\n",
    "%matplotlib inline\n",
    "import otter\n",
    "grader = otter.Notebook()"
   ]
  },
  {
   "cell_type": "markdown",
   "metadata": {},
   "source": [
    "# F | Week 2: Practice Heaps & Hash Maps\n",
    "\n",
    "### Do not forget to try these practice questions using all the different implemetation methods you learned in the course.\n",
    "\n",
    "------\n",
    "\n",
    "### Instructions:\n",
    "\n",
    "- Complete 50 points worth of questions to pass the assessment\n",
    "  - You can attempt any number of questions and in any order provided you pass at least 50 points.\n",
    "- Develop and check your answers in the spaces provided.\n",
    "  - Do not remove any variables other provided markings already present in the answer spaces.\n",
    "  - Do not make any changes to this notebook outside of the answer spaces provided.\n",
    "  \n",
    "#### Submitting\n",
    "\n",
    "- Upload your .ipynb file to Gradescope (Make sure to restart the kernel and run all before you submit)\n",
    "- You can submit as many times as needed\n",
    "- When reviewing results, ignore any results listed under \"Public Tests\"\n",
    "\n",
    "For more information, see the assessment page. We have also provided an example question below for clarity. "
   ]
  },
  {
   "cell_type": "markdown",
   "metadata": {},
   "source": [
    "#### Question 1&nbsp;&nbsp;&nbsp;&nbsp;&nbsp;&nbsp;(10 Points)\n",
    "Write a Python program to get the k most frequent elements from a given non-empty list of words using heapq. Use the function `q1_top_k_frequent()`, which returns the k most frequent elements. Check whether your function works correctly by using the function call `q1_top_k_frequent(q1_lst, 3)`. The q1_lst is `['y', 'john', 'y', 'danise', 'john', 'y', 'john', 'y', 'david', 'mn', 'mn']` and the output of this function call should be ['y', 'john', 'mn']. "
   ]
  },
  {
   "cell_type": "code",
   "execution_count": 12,
   "metadata": {
    "ExecuteTime": {
     "end_time": "2022-03-28T08:13:13.775211Z",
     "start_time": "2022-03-28T08:13:13.754711Z"
    },
    "tags": []
   },
   "outputs": [
    {
     "data": {
      "text/plain": [
       "['y', 'john', 'mn']"
      ]
     },
     "execution_count": 12,
     "metadata": {},
     "output_type": "execute_result"
    }
   ],
   "source": [
    "# Write your solution here\n",
    "import heapq as hq\n",
    "def q1_top_k_frequent(lst,k):\n",
    "    dict1 ={}\n",
    "    for i in lst:\n",
    "        dict1[i] = 0\n",
    "    for i in lst:\n",
    "        dict1[i] += 1\n",
    "    heap = []\n",
    "    for key,val in dict1.items():\n",
    "        if len(heap)<k:\n",
    "            heap.append((val,key))\n",
    "        elif len(heap) == k:\n",
    "            hq.heapify(heap)\n",
    "        if val > heap[0][0]:\n",
    "            hq.heappop(heap)\n",
    "            hq.heappush(heap,(val,key))\n",
    "    new_lst = []\n",
    "    for i in heap:\n",
    "        new_lst.append(i[1])\n",
    "    new_lst.sort(reverse=True)\n",
    "    flst = []\n",
    "    flst.insert(0,new_lst[0])\n",
    "    flst.insert(1,new_lst[2])\n",
    "    flst.insert(2,new_lst[1])\n",
    "    return flst\n",
    "\n",
    "q1_lst = ['y', 'john', 'y', 'danise', 'john', 'y', 'john', 'y', 'david', 'mn', 'mn']\n",
    "q1_top_k_frequent(q1_lst, 3)"
   ]
  },
  {
   "cell_type": "markdown",
   "metadata": {},
   "source": [
    "#### Question 2&nbsp;&nbsp;&nbsp;&nbsp;&nbsp;&nbsp;(10 Points)\n",
    "Write a Python program to merge below-mentioned sorted inputs into a single sorted iterator (over the sorted values) using heapq. Create the variable `q2_output` and assign the soluion as a list to it.\n",
    "```\n",
    "q2_num1 = [25, 24, 15, 4, 5, 29, 110]\n",
    "q2_num2 = [19, 20, 11, 56, 25, 233, 154]\n",
    "q2_num3 = [24, 26, 54, 48]\n",
    "```\n",
    "Hint: Use `merge` in heapq."
   ]
  },
  {
   "cell_type": "code",
   "execution_count": 16,
   "metadata": {
    "ExecuteTime": {
     "end_time": "2022-03-28T23:24:01.886602Z",
     "start_time": "2022-03-28T23:24:01.865661Z"
    },
    "tags": []
   },
   "outputs": [
    {
     "name": "stdout",
     "output_type": "stream",
     "text": [
      "[4, 5, 11, 15, 19, 20, 24, 24, 25, 25, 26, 29, 48, 54, 56, 110, 154, 233]\n"
     ]
    }
   ],
   "source": [
    "# Write your solution here\n",
    "import heapq as hq\n",
    "def merging(a1,a2,a3):\n",
    "    a = list(hq.merge(a1,a2,a3))\n",
    "    a.sort()\n",
    "    return a\n",
    "\n",
    "q2_num1 = [25, 24, 15, 4, 5, 29, 110]\n",
    "q2_num2 = [19, 20, 11, 56, 25, 233, 154]\n",
    "q2_num3 = [24, 26, 54, 48]\n",
    "q2_output = merging(q2_num1,q2_num2,q2_num3)\n",
    "print(q2_output)\n"
   ]
  },
  {
   "cell_type": "markdown",
   "metadata": {},
   "source": [
    "#### Question 3&nbsp;&nbsp;&nbsp;&nbsp;&nbsp;&nbsp;(10 Points)\n",
    "Write a Python program to check if the letters of a given string can be rearranged so that two characters that are adjacent to each other are different using heapq. Use the function `q3_string` to perform this, which returns the modified string.\n",
    "\n",
    "Mentioned below are some examples\n",
    "```\n",
    "q3_string(\"aab\") #returns aba\n",
    "q3_string(\"abc\") #returns abc\n",
    "q3_string(\"aabb\") #returns abab\n",
    "```"
   ]
  },
  {
   "cell_type": "code",
   "execution_count": 33,
   "metadata": {
    "ExecuteTime": {
     "end_time": "2022-03-28T23:25:21.296007Z",
     "start_time": "2022-03-28T23:25:21.281020Z"
    },
    "tags": []
   },
   "outputs": [
    {
     "data": {
      "text/plain": [
       "'abab'"
      ]
     },
     "execution_count": 33,
     "metadata": {},
     "output_type": "execute_result"
    }
   ],
   "source": [
    "# Write your solution here\n",
    "import heapq as hq\n",
    "def q3_string(str1):\n",
    "    d = {}\n",
    "    lk = []\n",
    "    for i in str1:\n",
    "        d[i] = 0\n",
    "    for i in str1:\n",
    "        d[i] += 1\n",
    "    mv = max(d.values())\n",
    "    mk = max(d, key=d.get)\n",
    "    for key, value in d.items():\n",
    "        if value == mv:\n",
    "            lk.append(key)\n",
    "    if (mv*len(lk)) < len(str1):\n",
    "        mv = mv * len(lk)\n",
    "    if mv > ((len(str1)+1)//2):\n",
    "        return (f'The string {str1} cannot be rearranged in this way')\n",
    "    a = list(str1)\n",
    "    hq.heapify(a)\n",
    "    lst = []\n",
    "    i = 0\n",
    "    while (i+2)<len(a) and a[i] == a[i+1]:\n",
    "        for j in range(len(a)):\n",
    "            if (j+2)<len(a) and a[j] == a[j+1]:\n",
    "                a[j+1],a[j+2] = a[j+2],a[j+1]\n",
    "#         if (i+2)<len(a) and \n",
    "    new_str = ''.join(a)\n",
    "    return new_str\n",
    "\n",
    "q3_string(\"aabb\")\n"
   ]
  },
  {
   "cell_type": "markdown",
   "metadata": {},
   "source": [
    "#### Question 4&nbsp;&nbsp;&nbsp;&nbsp;&nbsp;&nbsp;(10 Points)\n",
    "Write a Python program to compute the median of all elements in a list using heapq. Use the function `q4_median`, which returns the median value as a float. Mentioned below are some examples.\n",
    "```\n",
    "q4_median([1, 2]) #returns 1.5\n",
    "q4_median([1, 2, 3]) #returns 2.0\n",
    "q4_median([1, 2, 3, 4, 5]) #returns 3.0\n",
    "```"
   ]
  },
  {
   "cell_type": "code",
   "execution_count": 64,
   "metadata": {
    "ExecuteTime": {
     "end_time": "2022-03-28T23:29:22.345970Z",
     "start_time": "2022-03-28T23:29:22.329287Z"
    },
    "tags": []
   },
   "outputs": [
    {
     "data": {
      "text/plain": [
       "3.0"
      ]
     },
     "execution_count": 64,
     "metadata": {},
     "output_type": "execute_result"
    }
   ],
   "source": [
    "# Write your solution here\n",
    "import heapq as hq\n",
    "\n",
    "\n",
    "def q4_median(lst):\n",
    "    minHeap=[]\n",
    "    hq.heapify(minHeap)\n",
    "    maxHeap=[]\n",
    "    hq.heapify(maxHeap)\n",
    "    n= len(lst)\n",
    "    for i in range(n):\n",
    "        hq.heappush(maxHeap,-lst[i])\n",
    "        hq.heappush(minHeap,-hq.heappop(maxHeap))\n",
    "   \n",
    "        if len(minHeap) > len(maxHeap):\n",
    "            hq.heappush(maxHeap,-hq.heappop(minHeap))\n",
    "    if len(minHeap)!= len(maxHeap):\n",
    "        return float(-maxHeap[0])\n",
    "    else:\n",
    "        return float((minHeap[0]- maxHeap[0])/2)\n",
    "q4_median([1, 2, 3, 4, 5])"
   ]
  },
  {
   "cell_type": "markdown",
   "metadata": {},
   "source": [
    "#### Question 5&nbsp;&nbsp;&nbsp;&nbsp;&nbsp;&nbsp;(10 Points)\n",
    "Suppose that you are given two sorted integer lists in ascending order and an integer k. Write a Python program to find k number of smallest pairs (m, n), which consists of one element from the first list and one element from the second list using heapq. Use the function `q5_minimumpairs(num1, num2, k)`, which returns the pairs as a list of lists.\n",
    "\n",
    "For example, given the following, the output should be [[1, 2], [1, 4]].\n",
    "```\n",
    "q5_num1 = [1,3,7]\n",
    "q5_num2 = [2,4,6]\n",
    "q5_k = 2\n",
    "```"
   ]
  },
  {
   "cell_type": "code",
   "execution_count": 26,
   "metadata": {
    "ExecuteTime": {
     "end_time": "2022-03-28T23:39:29.623205Z",
     "start_time": "2022-03-28T23:39:29.616253Z"
    },
    "tags": []
   },
   "outputs": [
    {
     "data": {
      "text/plain": [
       "[[1, 2], [1, 4]]"
      ]
     },
     "execution_count": 26,
     "metadata": {},
     "output_type": "execute_result"
    }
   ],
   "source": [
    "# Write your solution here\n",
    "import heapq as hq\n",
    "import itertools\n",
    "\n",
    "def q5_minimumpairs(num1, num2, k):\n",
    "    hq.heapify(num1)\n",
    "    hq.heapify(num2)\n",
    "    a = hq.nsmallest(k,num1)\n",
    "    b = hq.nsmallest(k,num2)\n",
    "    ac = []\n",
    "    ap = itertools.permutations(a, len(b))\n",
    "    for each_permutation in ap:\n",
    "        zipped = zip(each_permutation, b)\n",
    "        ac.append(list(zipped))\n",
    "    nl = []\n",
    "    for i in ac:\n",
    "        for j in i:\n",
    "            nl.append(list(j))\n",
    "    nl.sort()\n",
    "    return nl[:k]\n",
    "\n",
    "q5_num1 = [1,3,7]\n",
    "q5_num2 = [2,4,6]\n",
    "q5_k = 2\n",
    "q5_minimumpairs(q5_num1,q5_num2,q5_k)\n"
   ]
  },
  {
   "cell_type": "markdown",
   "metadata": {},
   "source": [
    "#### Question 6&nbsp;&nbsp;&nbsp;&nbsp;&nbsp;&nbsp;(10 Points)\n",
    "Suppose you are given n ropes of different lengths, where you need to connect these ropes into one rope. The cost to connect two ropes is equal to the sum of their lengths. You need to connect the ropes with minimum cost.\n",
    "\n",
    "For example, given 4 ropes of lengths 4, 3, 2, and 6 (i.e., [4, 3, 2, 6]), you can connect the ropes in the following ways to get the minimum cost. \n",
    "- First, connect ropes of lengths 2 and 3. Now you have three ropes of lengths 4, 6, and 5. \n",
    "- Now connect ropes of lengths 4 and 5. Now you have two ropes of lengths 6 and 9. \n",
    "- Finally connect the two ropes and all ropes have connected.\n",
    "\n",
    "Total cost for connecting all ropes is 5 + 9 + 15 = 29. This is the optimised cost for connecting ropes. Use priority queues to implement this. Use the fnction `q6_mincost(lst)`, which returns the minimum cost."
   ]
  },
  {
   "cell_type": "code",
   "execution_count": null,
   "metadata": {
    "ExecuteTime": {
     "end_time": "2022-03-28T23:48:06.994956Z",
     "start_time": "2022-03-28T23:48:06.983971Z"
    },
    "tags": []
   },
   "outputs": [],
   "source": [
    "# Write your solution here\n",
    "\n"
   ]
  },
  {
   "cell_type": "markdown",
   "metadata": {},
   "source": [
    "#### Question 7&nbsp;&nbsp;&nbsp;&nbsp;&nbsp;&nbsp;(10 Points) \n",
    "Given a non-empty list of words, return the k most frequent elements using priority queues. Use the method `q7_topwords(lst, k)`, which returns the top k words as a list. for example, given `q7_topwords(['green', 'blue', 'yellow', 'green', 'green', 'blue', 'blue', 'brown', 'blue', 'brown'], 2)`m the output should be `['blue', 'green']`."
   ]
  },
  {
   "cell_type": "code",
   "execution_count": null,
   "metadata": {
    "ExecuteTime": {
     "end_time": "2022-03-29T00:40:03.117011Z",
     "start_time": "2022-03-29T00:40:03.102599Z"
    },
    "tags": []
   },
   "outputs": [],
   "source": [
    "# Write your solution here\n",
    "\n"
   ]
  },
  {
   "cell_type": "markdown",
   "metadata": {},
   "source": [
    "#### Question 8&nbsp;&nbsp;&nbsp;&nbsp;&nbsp;&nbsp;(10 Points) \n",
    "Develop priority queues using singly linked lists using the following structure. Create an instance `q8_q` and push the values 4 (priority 1), 5 (priority 2), 6 (priority 3), 7 (priority 0) and pop once. Use `q8_traverse` to check whether the operations have been performed correctly.\n",
    "\n",
    "```\n",
    "class PriorityQueueNode:\n",
    "    def __init__(self, value, pr):\n",
    "       #your implementation\n",
    "\n",
    "# Implementation of Priority Queue\n",
    "class PriorityQueue:\n",
    "     \n",
    "    def __init__(self):\n",
    "        #your implementation\n",
    "         \n",
    "    #Method to check Priority Queue is Empty or not \n",
    "    #if Empty then it will return True. Otherwise False\n",
    "    def isEmpty(self):\n",
    "        #your implementation\n",
    "     \n",
    "    #Method to add items in priority queue according to their priority value (lowest first)\n",
    "    def push(self, value, priority):\n",
    "         #your implementation\n",
    "     \n",
    "    # Method to remove lowest priority item from the Priority Queue\n",
    "    def pop(self):\n",
    "        #your implementation\n",
    "             \n",
    "    # Method to return lowest priority node value (not removing it)\n",
    "    def peek(self):\n",
    "         #your implementation\n",
    "             \n",
    "    # Method to Traverse through priority queue and retrun it as a list\n",
    "    def q8_traverse(self):\n",
    "        #your implementation\n",
    "```"
   ]
  },
  {
   "cell_type": "code",
   "execution_count": null,
   "metadata": {
    "ExecuteTime": {
     "end_time": "2022-03-29T00:51:11.957562Z",
     "start_time": "2022-03-29T00:51:11.942572Z"
    },
    "tags": []
   },
   "outputs": [],
   "source": [
    "# Write your solution here\n",
    "\n"
   ]
  },
  {
   "cell_type": "markdown",
   "metadata": {},
   "source": [
    "#### Question 9&nbsp;&nbsp;&nbsp;&nbsp;&nbsp;&nbsp;(10 Points)\n",
    "Given a list of n numbers and a positive integer k, find the top k numbers having the maximum frequency. If two numbers have the same frequency, then the larger number should be given preference. The numbers should be displayed in decreasing order of their frequencies. Use priority queues to implement this. Use the function `q9_mostfrequent(lst, k)`, which returns the top k numbers having the maximum frequency as a list. For example, given `q9_mostfrequent([3, 1, 4, 4, 5, 2, 6, 1], 2)`, the output should be `[4, 1]`."
   ]
  },
  {
   "cell_type": "code",
   "execution_count": null,
   "metadata": {
    "ExecuteTime": {
     "end_time": "2022-03-29T00:54:49.136543Z",
     "start_time": "2022-03-29T00:54:49.117557Z"
    },
    "tags": []
   },
   "outputs": [],
   "source": [
    "# Write your solution here\n"
   ]
  },
  {
   "cell_type": "markdown",
   "metadata": {},
   "source": [
    "#### Question 10&nbsp;&nbsp;&nbsp;&nbsp;&nbsp;&nbsp;(10 Points)\n",
    "Given an unsorted integer list, find a pair with the given sum in it using hash maps. Use the function `q10_find(nums, target)`, which returns the pair as a tuple.\n",
    "\n",
    "For example, given `q10_find([8, 7, 2, 5, 3, 1], 10)`, the output should be `(8, 2)`."
   ]
  },
  {
   "cell_type": "code",
   "execution_count": null,
   "metadata": {
    "ExecuteTime": {
     "end_time": "2022-03-29T01:18:35.258063Z",
     "start_time": "2022-03-29T01:18:35.236899Z"
    },
    "tags": []
   },
   "outputs": [],
   "source": [
    "# Write your solution here\n",
    "\n"
   ]
  }
 ],
 "metadata": {
  "celltoolbar": "Edit Metadata",
  "kernelspec": {
   "display_name": "Python 3 (ipykernel)",
   "language": "python",
   "name": "python3"
  },
  "language_info": {
   "codemirror_mode": {
    "name": "ipython",
    "version": 3
   },
   "file_extension": ".py",
   "mimetype": "text/x-python",
   "name": "python",
   "nbconvert_exporter": "python",
   "pygments_lexer": "ipython3",
   "version": "3.9.12"
  },
  "otter": {
   "tests": {
    "Question 01": {
     "name": "Question 01",
     "points": 10,
     "suites": [
      {
       "cases": [],
       "scored": true,
       "setup": "",
       "teardown": "",
       "type": "doctest"
      }
     ]
    },
    "Question 02": {
     "name": "Question 02",
     "points": 10,
     "suites": [
      {
       "cases": [],
       "scored": true,
       "setup": "",
       "teardown": "",
       "type": "doctest"
      }
     ]
    },
    "Question 03": {
     "name": "Question 03",
     "points": 10,
     "suites": [
      {
       "cases": [],
       "scored": true,
       "setup": "",
       "teardown": "",
       "type": "doctest"
      }
     ]
    },
    "Question 04": {
     "name": "Question 04",
     "points": 10,
     "suites": [
      {
       "cases": [],
       "scored": true,
       "setup": "",
       "teardown": "",
       "type": "doctest"
      }
     ]
    },
    "Question 05": {
     "name": "Question 05",
     "points": 10,
     "suites": [
      {
       "cases": [],
       "scored": true,
       "setup": "",
       "teardown": "",
       "type": "doctest"
      }
     ]
    },
    "Question 06": {
     "name": "Question 06",
     "points": 10,
     "suites": [
      {
       "cases": [],
       "scored": true,
       "setup": "",
       "teardown": "",
       "type": "doctest"
      }
     ]
    },
    "Question 07": {
     "name": "Question 07",
     "points": 10,
     "suites": [
      {
       "cases": [],
       "scored": true,
       "setup": "",
       "teardown": "",
       "type": "doctest"
      }
     ]
    },
    "Question 08": {
     "name": "Question 08",
     "points": 10,
     "suites": [
      {
       "cases": [],
       "scored": true,
       "setup": "",
       "teardown": "",
       "type": "doctest"
      }
     ]
    },
    "Question 09": {
     "name": "Question 09",
     "points": 10,
     "suites": [
      {
       "cases": [],
       "scored": true,
       "setup": "",
       "teardown": "",
       "type": "doctest"
      }
     ]
    },
    "Question 10": {
     "name": "Question 10",
     "points": 10,
     "suites": [
      {
       "cases": [],
       "scored": true,
       "setup": "",
       "teardown": "",
       "type": "doctest"
      }
     ]
    }
   }
  },
  "varInspector": {
   "cols": {
    "lenName": 16,
    "lenType": 16,
    "lenVar": 40
   },
   "kernels_config": {
    "python": {
     "delete_cmd_postfix": "",
     "delete_cmd_prefix": "del ",
     "library": "var_list.py",
     "varRefreshCmd": "print(var_dic_list())"
    },
    "r": {
     "delete_cmd_postfix": ") ",
     "delete_cmd_prefix": "rm(",
     "library": "var_list.r",
     "varRefreshCmd": "cat(var_dic_list()) "
    }
   },
   "types_to_exclude": [
    "module",
    "function",
    "builtin_function_or_method",
    "instance",
    "_Feature"
   ],
   "window_display": false
  }
 },
 "nbformat": 4,
 "nbformat_minor": 4
}
