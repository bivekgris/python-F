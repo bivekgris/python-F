{
 "cells": [
  {
   "cell_type": "code",
   "execution_count": 1,
   "metadata": {
    "ExecuteTime": {
     "end_time": "2022-03-28T09:26:13.782010Z",
     "start_time": "2022-03-28T09:26:13.068747Z"
    }
   },
   "outputs": [
    {
     "ename": "ModuleNotFoundError",
     "evalue": "No module named 'otter'",
     "output_type": "error",
     "traceback": [
      "\u001b[1;31m---------------------------------------------------------------------------\u001b[0m",
      "\u001b[1;31mModuleNotFoundError\u001b[0m                       Traceback (most recent call last)",
      "Input \u001b[1;32mIn [1]\u001b[0m, in \u001b[0;36m<cell line: 4>\u001b[1;34m()\u001b[0m\n\u001b[0;32m      2\u001b[0m \u001b[38;5;28;01mimport\u001b[39;00m \u001b[38;5;21;01mnumpy\u001b[39;00m \u001b[38;5;28;01mas\u001b[39;00m \u001b[38;5;21;01mnp\u001b[39;00m\n\u001b[0;32m      3\u001b[0m get_ipython()\u001b[38;5;241m.\u001b[39mrun_line_magic(\u001b[38;5;124m'\u001b[39m\u001b[38;5;124mmatplotlib\u001b[39m\u001b[38;5;124m'\u001b[39m, \u001b[38;5;124m'\u001b[39m\u001b[38;5;124minline\u001b[39m\u001b[38;5;124m'\u001b[39m)\n\u001b[1;32m----> 4\u001b[0m \u001b[38;5;28;01mimport\u001b[39;00m \u001b[38;5;21;01motter\u001b[39;00m\n\u001b[0;32m      5\u001b[0m grader \u001b[38;5;241m=\u001b[39m otter\u001b[38;5;241m.\u001b[39mNotebook()\n",
      "\u001b[1;31mModuleNotFoundError\u001b[0m: No module named 'otter'"
     ]
    }
   ],
   "source": [
    "import pandas as pd\n",
    "import numpy as np\n",
    "%matplotlib inline\n",
    "import otter\n",
    "grader = otter.Notebook()"
   ]
  },
  {
   "cell_type": "markdown",
   "metadata": {},
   "source": [
    "# F | Week 2: Practice Stacks & Queues\n",
    "\n",
    "### Do not forget to try these practice questions using all the different implemetation methods you learned in the course.\n",
    "\n",
    "------\n",
    "\n",
    "### Instructions:\n",
    "\n",
    "- Complete 50 points worth of questions to pass the assessment\n",
    "  - You can attempt any number of questions and in any order provided you pass at least 50 points.\n",
    "- Develop and check your answers in the spaces provided.\n",
    "  - Do not remove any variables other provided markings already present in the answer spaces.\n",
    "  - Do not make any changes to this notebook outside of the answer spaces provided.\n",
    "  \n",
    "#### Submitting\n",
    "\n",
    "- Upload your .ipynb file to Gradescope (Make sure to restart the kernel and run all before you submit)\n",
    "- You can submit as many times as needed\n",
    "- When reviewing results, ignore any results listed under \"Public Tests\"\n",
    "\n",
    "For more information, see the assessment page. We have also provided an example question below for clarity. "
   ]
  },
  {
   "cell_type": "markdown",
   "metadata": {},
   "source": [
    "#### Question 1&nbsp;&nbsp;&nbsp;&nbsp;&nbsp;&nbsp;(10 Points)\n",
    "Suppose we have two stacks and no other temporary variable. Construct a queue data structure using only these two stacks. Use the following template when developing the solution. Next, create a instance `q1_q` and check if the enqueue and dequeue operations are correctly working.\n",
    "\n",
    "```\n",
    "class Q1Queue:\n",
    "    def __init__(self):\n",
    "        self.s1 = [] #stack 1\n",
    "        self.s2 = [] #stack 2\n",
    " \n",
    "    #enqueue an item from the queue\n",
    "    def enqueue(self, x):\n",
    "        #implementation\n",
    " \n",
    "    #dequeue an item from the queue\n",
    "    def dequeue(self):\n",
    "        #implementation\n",
    "        \n",
    "        return x #retrun the enqueued value\n",
    "```"
   ]
  },
  {
   "cell_type": "code",
   "execution_count": null,
   "metadata": {
    "ExecuteTime": {
     "end_time": "2022-03-28T08:13:13.775211Z",
     "start_time": "2022-03-28T08:13:13.754711Z"
    },
    "tags": []
   },
   "outputs": [],
   "source": [
    "# Write your solution here\n",
    "class Q1Queue:\n",
    "    def __init__(self):\n",
    "        self.s1 = [] #stack 1\n",
    "        self.s2 = [] #stack 2\n",
    "\n",
    "    #enqueue an item from the queue\n",
    "    def enqueue(self, x):\n",
    "        #implementation\n",
    "        while len(self.s1)!= 0:\n",
    "            self.s2.append(self.s1[-1])\n",
    "            self.s1.pop()\n",
    "            \n",
    "        self.s1.append(x)\n",
    "        \n",
    "        while len(self.s2)!=0:\n",
    "            self.s1.append(self.s2[-1])\n",
    "            self.s2.pop()\n",
    "    #dequeue an item from the queue\n",
    "    def dequeue(self):\n",
    "        #implementation\n",
    "        x = self.s1[-1]\n",
    "        self.s1.pop()\n",
    "\n",
    "        return x #retrun the enqueued value\n",
    "\n",
    "q1_q = Q1Queue()\n",
    "q1_q.enqueue(1)\n",
    "q1_q.enqueue(2)\n",
    "q1_q.enqueue(3)\n",
    "\n",
    "q1_q.dequeue()"
   ]
  },
  {
   "cell_type": "markdown",
   "metadata": {},
   "source": [
    "#### Question 2&nbsp;&nbsp;&nbsp;&nbsp;&nbsp;&nbsp;(10 Points)\n",
    "Given two queues with their standard operations (e.g., enqueue, dequeue, size), implement a stack with its standard operations (pop, push, top, size). Next, create a instance `q2_s` and push 1, 2, 3, 4 and then pop once.\n",
    "\n",
    "```\n",
    "from queue import Queue\n",
    "class Q2Stack:\n",
    "    def __init__(self):\n",
    "        self.q1 = Queue()\n",
    "        self.q2 = Queue()\n",
    "        \n",
    "        # To maintain current number of elements\n",
    "        self.curr_size = 0\n",
    " \n",
    "    def push(self, x):\n",
    "        #your implementation\n",
    " \n",
    "    def pop(self):\n",
    "        #your implementation\n",
    " \n",
    "    def top(self):\n",
    "       #your implementation\n",
    " \n",
    "        return top #return the top value\n",
    "    \n",
    "    def size(self):\n",
    "        #your implementation\n",
    "        return size #return the size\n",
    "```"
   ]
  },
  {
   "cell_type": "code",
   "execution_count": null,
   "metadata": {
    "ExecuteTime": {
     "end_time": "2022-03-28T23:24:01.886602Z",
     "start_time": "2022-03-28T23:24:01.865661Z"
    },
    "tags": []
   },
   "outputs": [],
   "source": [
    "# Write your solution here\n",
    "\n",
    "from queue import Queue\n",
    "class Q2Stack:\n",
    "    def __init__(self):\n",
    "        self.q1 = Queue()\n",
    "        self.q2 = Queue()\n",
    "\n",
    "        # To maintain current number of elements\n",
    "        self.curr_size = 0\n",
    "\n",
    "    def push(self, x):\n",
    "        #your implementation\n",
    "        self.curr_size += 1\n",
    "        self.q2.put(x)\n",
    "        \n",
    "        \n",
    "        while not self.q1.empty():\n",
    "            self.q2.put(self.q1.get())\n",
    "            \n",
    "        self.q1, self.q2 = self.q2, self.q1\n",
    "\n",
    "    def pop(self):\n",
    "        #your implementation\n",
    "        self.curr_size -= 1\n",
    "        self.q1.get()\n",
    "\n",
    "    def top(self):\n",
    "        #your implementation\n",
    "        top = self.q1.queue[0]\n",
    "\n",
    "        return top #return the top value\n",
    "\n",
    "    def size(self):\n",
    "        #your implementation\n",
    "        size =  len(list(self.q1.queue))\n",
    "        return size #return the size\n",
    "    \n",
    "    \n",
    "q2_s = Q2Stack()\n",
    "q2_s.push(1)\n",
    "q2_s.push(2)\n",
    "q2_s.push(3)\n",
    "q2_s.push(4)\n",
    "q2_s.pop()"
   ]
  },
  {
   "cell_type": "markdown",
   "metadata": {},
   "source": [
    "#### Question 3&nbsp;&nbsp;&nbsp;&nbsp;&nbsp;&nbsp;(10 Points)\n",
    "Write a Python program to reverse a string using a stack. Use the following template when developing the solution. Next, create a instance `q3_s` and check if the reverse operation is correctly working.\n",
    "```\n",
    "class Q3Stack:\n",
    "    #your implementation with initialiser and methods\n",
    " \n",
    "    def reverse(self, string):\n",
    "       #your implementation of reverse method\n",
    "       \n",
    "       return string #return the reversed string\n",
    "```"
   ]
  },
  {
   "cell_type": "code",
   "execution_count": null,
   "metadata": {
    "ExecuteTime": {
     "end_time": "2022-03-28T23:25:21.296007Z",
     "start_time": "2022-03-28T23:25:21.281020Z"
    },
    "tags": []
   },
   "outputs": [],
   "source": [
    "# Write your solution here\n",
    "from queue import LifoQueue\n",
    "class Q3Stack:\n",
    "    #your implementation with initialiser and methods\n",
    "    def __init__(self):\n",
    "        self.s1 = LifoQueue(maxsize=0)\n",
    "\n",
    "    def reverse(self, string):\n",
    "       #your implementation of reverse method\n",
    "        for i in string:\n",
    "            self.s1.put(i)\n",
    "        string = \"\"\n",
    "        while not self.s1.empty():\n",
    "            string += self.s1.get()\n",
    "            \n",
    "\n",
    "        return string #return the reversed string\n",
    "\n",
    "    \n",
    "q3_s = Q3Stack()\n",
    "q3_s.reverse(\"Hello\")"
   ]
  },
  {
   "cell_type": "markdown",
   "metadata": {},
   "source": [
    "#### Question 4&nbsp;&nbsp;&nbsp;&nbsp;&nbsp;&nbsp;(10 Points)\n",
    "Given a stack of integers, write a Python program to sort it in ascending order using another temporary stack. For example, give a stack [3, 5, 1, 4, 2, 8] the output should be [1, 2, 3, 4, 5, 8]. Use the following template when developing the solution. Next, create a instance `q4_s` and check if the enqueue and dequeue operations are correctly working.\n",
    "```\n",
    "class Q4Stack:\n",
    "    #your implementation of init and methods\n",
    "        \n",
    "    def sort_stack(self):\n",
    "        #your implementation\n",
    "        \n",
    "        return mylist #return the sorted stack as a list\n",
    "```"
   ]
  },
  {
   "cell_type": "code",
   "execution_count": 50,
   "metadata": {
    "ExecuteTime": {
     "end_time": "2022-03-28T23:29:22.345970Z",
     "start_time": "2022-03-28T23:29:22.329287Z"
    },
    "tags": []
   },
   "outputs": [
    {
     "name": "stdout",
     "output_type": "stream",
     "text": [
      "[1, 2, 3, 4, 5, 8]\n"
     ]
    }
   ],
   "source": [
    "# Write your solution here\n",
    "from queue import LifoQueue\n",
    "\n",
    "class Q4Stack:\n",
    "    #your implementation of init and methods\n",
    "    def __init__(self):\n",
    "        self.s1 = LifoQueue(maxsize=0)\n",
    "\n",
    "    def isempty(self):\n",
    "        return self.s1.empty()\n",
    "    \n",
    "    def push(self, x):\n",
    "        self.s1.put(x)\n",
    "        \n",
    "    def pop(self):\n",
    "        return self.s1.get()\n",
    "        \n",
    "    def top(self):\n",
    "        return self.s1.queue[-1]\n",
    "    \n",
    "    def show(self):\n",
    "        print(self.s1.queue)\n",
    "        \n",
    "    def sort_stack(self):\n",
    "        #your implementation\n",
    "        s2 = LifoQueue(maxsize=0)\n",
    "        while not self.s1.empty():\n",
    "            tmp = self.top()\n",
    "            self.pop()\n",
    "        \n",
    "            while not s2.empty() and s2.queue[-1] > tmp:\n",
    "                self.push(s2.queue[-1])\n",
    "                s2.get()\n",
    "                \n",
    "            s2.put(tmp)\n",
    "        return s2.queue\n",
    "        \n",
    "\n",
    "    \n",
    "s1 = Q4Stack()\n",
    "s2 = Q4Stack()\n",
    "s1.push(3)\n",
    "s1.push(5)\n",
    "s1.push(1)\n",
    "s1.push(4)\n",
    "s1.push(2)\n",
    "s1.push(8)\n",
    "\n",
    "print(s1.sort_stack())"
   ]
  },
  {
   "cell_type": "markdown",
   "metadata": {},
   "source": [
    "#### Question 5&nbsp;&nbsp;&nbsp;&nbsp;&nbsp;&nbsp;(10 Points)\n",
    "Write a Python program to check if parentheses are balanced using stack. Use the method `q5_parentheses`, which returns `True` if balanced. Otherwise, `False`."
   ]
  },
  {
   "cell_type": "code",
   "execution_count": 6,
   "metadata": {
    "ExecuteTime": {
     "end_time": "2022-03-28T23:39:29.623205Z",
     "start_time": "2022-03-28T23:39:29.616253Z"
    },
    "tags": []
   },
   "outputs": [
    {
     "data": {
      "text/plain": [
       "False"
      ]
     },
     "execution_count": 6,
     "metadata": {},
     "output_type": "execute_result"
    }
   ],
   "source": [
    "# Write your solution here\n",
    "from queue import LifoQueue\n",
    "\n",
    "def q5_parentheses(x):\n",
    "    \n",
    "    s1 = LifoQueue(maxsize=0)\n",
    "\n",
    "    l1 = [\"[\", \"{\", \"(\"]\n",
    "\n",
    "    for i in x:\n",
    "        if i in l1:\n",
    "            s1.put(i)\n",
    "        else:\n",
    "            top = s1.get()\n",
    "            if top == \"(\":\n",
    "                if i != \")\":\n",
    "                    return False\n",
    "                \n",
    "            if top == \"{\":\n",
    "                if i != \"}\":\n",
    "                    return False\n",
    "                \n",
    "            if top == \"[\":\n",
    "                if i != \"]\":\n",
    "                    return False\n",
    "            \n",
    "            \n",
    "    return s1.empty()\n",
    "    \n",
    "a = \"[{}{})(]\"\n",
    "q5_parentheses(a)"
   ]
  },
  {
   "cell_type": "markdown",
   "metadata": {},
   "source": [
    "#### Question 6&nbsp;&nbsp;&nbsp;&nbsp;&nbsp;&nbsp;(10 Points)\n",
    "Write a Python program to check if an expression has duplicate parenthesis or not using stacks. Use the method `q6_parentheses`, which returns `True` if it has duplicates. Otherwise, `False`.\n",
    "\n",
    "For example, (((x+(y))+(m+n))) has duplicate parenthesis since the whole expression is surrounded by two pairs of brackets.\n",
    "((x+y)+(m+n)) do not have any duplicate parenthesis since no subsexpression is surrounded by duplicate\n",
    "brackets."
   ]
  },
  {
   "cell_type": "code",
   "execution_count": 8,
   "metadata": {
    "ExecuteTime": {
     "end_time": "2022-03-28T23:48:06.994956Z",
     "start_time": "2022-03-28T23:48:06.983971Z"
    },
    "tags": []
   },
   "outputs": [
    {
     "data": {
      "text/plain": [
       "True"
      ]
     },
     "execution_count": 8,
     "metadata": {},
     "output_type": "execute_result"
    }
   ],
   "source": [
    "# Write your solution here\n",
    "from queue import LifoQueue\n",
    "\n",
    "\n",
    "def q6_parentheses(a):\n",
    "    s1 = LifoQueue(maxsize=0)\n",
    "    for i in a:\n",
    "        if i ==\")\":\n",
    "            top = s1.get()\n",
    "            ele = 0\n",
    "            while top!=\"(\":\n",
    "                ele += 1\n",
    "                top = s1.get()\n",
    "            if ele < 1:\n",
    "                return True\n",
    "        else:\n",
    "            s1.put(i)\n",
    "    return False\n",
    "\n",
    "a = \"((x+y)+((z)))\"\n",
    "q6_parentheses(a)"
   ]
  },
  {
   "cell_type": "markdown",
   "metadata": {},
   "source": [
    "#### Question 7&nbsp;&nbsp;&nbsp;&nbsp;&nbsp;&nbsp;(10 Points) \n",
    "Write a Python program to to check if parentheses are balanced using queue. Use the method `q7_parentheses`, which returns `True` if balanced. Otherwise, `False`."
   ]
  },
  {
   "cell_type": "code",
   "execution_count": null,
   "metadata": {
    "ExecuteTime": {
     "end_time": "2022-03-29T00:40:03.117011Z",
     "start_time": "2022-03-29T00:40:03.102599Z"
    },
    "tags": []
   },
   "outputs": [],
   "source": [
    "# Write your solution here\n",
    "\n"
   ]
  },
  {
   "cell_type": "markdown",
   "metadata": {},
   "source": [
    "#### Question 8&nbsp;&nbsp;&nbsp;&nbsp;&nbsp;&nbsp;(10 Points) \n",
    "Write a Python program to sort a queue without extra space using the method `q8_sortqueue`, which returns the sorted queue as a list. Create a queue with the elements 30, 11, 15 and assign it to the variable `q8_q`. Use `q8_sortqueue(q8_q)` to check if the method is correctly working."
   ]
  },
  {
   "cell_type": "code",
   "execution_count": null,
   "metadata": {
    "ExecuteTime": {
     "end_time": "2022-03-29T00:51:11.957562Z",
     "start_time": "2022-03-29T00:51:11.942572Z"
    },
    "tags": []
   },
   "outputs": [],
   "source": [
    "# Write your solution here\n",
    "\n"
   ]
  },
  {
   "cell_type": "markdown",
   "metadata": {},
   "source": [
    "#### Question 9&nbsp;&nbsp;&nbsp;&nbsp;&nbsp;&nbsp;(10 Points)\n",
    "Write a Python program to reverse the elements in a queue using the method `q9_reversequeue` which returns the reversed queue as a list. Create a queue with the elements 1, 2, 3, 4, 5 and assign it to the variable `q9_q`. Use `q9_reversequeue(q9_q)` to check if the method is correctly working."
   ]
  },
  {
   "cell_type": "code",
   "execution_count": 11,
   "metadata": {
    "ExecuteTime": {
     "end_time": "2022-03-29T00:54:49.136543Z",
     "start_time": "2022-03-29T00:54:49.117557Z"
    },
    "tags": []
   },
   "outputs": [
    {
     "data": {
      "text/plain": [
       "[5, 4, 3, 2, 1]"
      ]
     },
     "execution_count": 11,
     "metadata": {},
     "output_type": "execute_result"
    }
   ],
   "source": [
    "# Write your solution here\n",
    "from queue import Queue\n",
    "from queue import LifoQueue\n",
    "\n",
    "\n",
    "\n",
    "def q9_reversequeue(q9_q):\n",
    "    s1 = LifoQueue(maxsize=0)\n",
    "    \n",
    "    while not q9_q.empty():\n",
    "        s1.put(q9_q.get())\n",
    "\n",
    "\n",
    "    while not s1.empty():\n",
    "        q9_q.put(s1.get())\n",
    "\n",
    "    return list(q9_q.queue)\n",
    "    \n",
    "    \n",
    "q9_q = Queue()\n",
    "q9_q.put(1)\n",
    "q9_q.put(2)\n",
    "q9_q.put(3)\n",
    "q9_q.put(4)\n",
    "q9_q.put(5)\n",
    "\n",
    "q9_reversequeue(q9_q)"
   ]
  },
  {
   "cell_type": "markdown",
   "metadata": {},
   "source": [
    "#### Question 10&nbsp;&nbsp;&nbsp;&nbsp;&nbsp;&nbsp;(10 Points)\n",
    "Write a Python program to check if sequence of characters is a palindrome by using a Stack and a Queue. Use the method `q10_is_palindrome`, which will return `True` if the sequence is a palindrome. Otherwise, `False`."
   ]
  },
  {
   "cell_type": "code",
   "execution_count": 13,
   "metadata": {
    "ExecuteTime": {
     "end_time": "2022-03-29T01:18:35.258063Z",
     "start_time": "2022-03-29T01:18:35.236899Z"
    },
    "tags": []
   },
   "outputs": [
    {
     "data": {
      "text/plain": [
       "False"
      ]
     },
     "execution_count": 13,
     "metadata": {},
     "output_type": "execute_result"
    }
   ],
   "source": [
    "# Write your solution here\n",
    "from queue import Queue\n",
    "from queue import LifoQueue\n",
    "\n",
    "def q10_is_palindrome(x):\n",
    "    y =\"\"\n",
    "    q1 = Queue()\n",
    "    s1 = LifoQueue(maxsize=0)\n",
    "    \n",
    "    for i in x:\n",
    "        q1.put(i)\n",
    "        \n",
    "    while not q1.empty():\n",
    "        s1.put(q1.get())\n",
    "        \n",
    "    while not s1.empty():\n",
    "        y += s1.get()\n",
    "        \n",
    "    return x == y\n",
    "\n",
    "q10_is_palindrome(\"ac\")"
   ]
  }
 ],
 "metadata": {
  "celltoolbar": "Edit Metadata",
  "kernelspec": {
   "display_name": "Python 3 (ipykernel)",
   "language": "python",
   "name": "python3"
  },
  "language_info": {
   "codemirror_mode": {
    "name": "ipython",
    "version": 3
   },
   "file_extension": ".py",
   "mimetype": "text/x-python",
   "name": "python",
   "nbconvert_exporter": "python",
   "pygments_lexer": "ipython3",
   "version": "3.9.12"
  },
  "otter": {
   "tests": {
    "Question 01": {
     "name": "Question 01",
     "points": 10,
     "suites": [
      {
       "cases": [],
       "scored": true,
       "setup": "",
       "teardown": "",
       "type": "doctest"
      }
     ]
    },
    "Question 02": {
     "name": "Question 02",
     "points": 10,
     "suites": [
      {
       "cases": [],
       "scored": true,
       "setup": "",
       "teardown": "",
       "type": "doctest"
      }
     ]
    },
    "Question 03": {
     "name": "Question 03",
     "points": 10,
     "suites": [
      {
       "cases": [],
       "scored": true,
       "setup": "",
       "teardown": "",
       "type": "doctest"
      }
     ]
    },
    "Question 04": {
     "name": "Question 04",
     "points": 10,
     "suites": [
      {
       "cases": [],
       "scored": true,
       "setup": "",
       "teardown": "",
       "type": "doctest"
      }
     ]
    },
    "Question 05": {
     "name": "Question 05",
     "points": 10,
     "suites": [
      {
       "cases": [],
       "scored": true,
       "setup": "",
       "teardown": "",
       "type": "doctest"
      }
     ]
    },
    "Question 06": {
     "name": "Question 06",
     "points": 10,
     "suites": [
      {
       "cases": [],
       "scored": true,
       "setup": "",
       "teardown": "",
       "type": "doctest"
      }
     ]
    },
    "Question 07": {
     "name": "Question 07",
     "points": 10,
     "suites": [
      {
       "cases": [],
       "scored": true,
       "setup": "",
       "teardown": "",
       "type": "doctest"
      }
     ]
    },
    "Question 08": {
     "name": "Question 08",
     "points": 10,
     "suites": [
      {
       "cases": [],
       "scored": true,
       "setup": "",
       "teardown": "",
       "type": "doctest"
      }
     ]
    },
    "Question 09": {
     "name": "Question 09",
     "points": 10,
     "suites": [
      {
       "cases": [],
       "scored": true,
       "setup": "",
       "teardown": "",
       "type": "doctest"
      }
     ]
    },
    "Question 10": {
     "name": "Question 10",
     "points": 10,
     "suites": [
      {
       "cases": [],
       "scored": true,
       "setup": "",
       "teardown": "",
       "type": "doctest"
      }
     ]
    }
   }
  },
  "varInspector": {
   "cols": {
    "lenName": 16,
    "lenType": 16,
    "lenVar": 40
   },
   "kernels_config": {
    "python": {
     "delete_cmd_postfix": "",
     "delete_cmd_prefix": "del ",
     "library": "var_list.py",
     "varRefreshCmd": "print(var_dic_list())"
    },
    "r": {
     "delete_cmd_postfix": ") ",
     "delete_cmd_prefix": "rm(",
     "library": "var_list.r",
     "varRefreshCmd": "cat(var_dic_list()) "
    }
   },
   "types_to_exclude": [
    "module",
    "function",
    "builtin_function_or_method",
    "instance",
    "_Feature"
   ],
   "window_display": false
  }
 },
 "nbformat": 4,
 "nbformat_minor": 4
}
